{
 "cells": [
  {
   "cell_type": "markdown",
   "metadata": {},
   "source": [
    "### **Import Tools**"
   ]
  },
  {
   "cell_type": "code",
   "execution_count": 14,
   "metadata": {},
   "outputs": [],
   "source": [
    "import numpy as np\n",
    "import pandas as pd\n",
    "import seaborn as sns\n",
    "import matplotlib.pyplot as plt\n",
    "from sklearn.base import clone\n",
    "from sklearn.model_selection import StratifiedKFold,cross_validate,train_test_split\n",
    "from sklearn.metrics import accuracy_score,precision_score,recall_score,mean_absolute_error,mean_squared_error,r2_score,make_scorer\n",
    "from sklearn.metrics import confusion_matrix, ConfusionMatrixDisplay\n",
    "from abc import ABC,abstractmethod\n",
    "from sklearn import tree\n",
    "from sklearn.metrics import confusion_matrix\n",
    "from sklearn.preprocessing import LabelEncoder\n"
   ]
  },
  {
   "cell_type": "markdown",
   "metadata": {},
   "source": [
    "### **Build random forest base class** and **Make Bootstrap samples**"
   ]
  },
  {
   "cell_type": "code",
   "execution_count": 15,
   "metadata": {},
   "outputs": [],
   "source": [
    "class RandomForest(ABC):\n",
    "    '''\n",
    "    Khởi tạo lớp randomforest\n",
    "    '''\n",
    "    def __init__(self, n_trees=100): # mặc định 100 cây\n",
    "        self.n_trees = n_trees\n",
    "        self.tree = []\n",
    "    def __make_bootstrap(self,data):\n",
    "        '''\n",
    "        Chương trình tạo bootstrap từ data  \n",
    "        '''\n",
    "        # khởi tạo output dictionary và unique count\n",
    "        dc = {}\n",
    "        uni_count = 0\n",
    "        b_size = data.shape[0]\n",
    "        idx = [i for i in range(b_size)]\n",
    "        #lặp cho tới khi lấy các đủ bootstraps sample\n",
    "        for b in range(self.n_trees):\n",
    "            #Lấy bootstraps sample (được trùng nên replace = True)\n",
    "            sidx = np.random.choice(idx, replace=True,size=b_size)\n",
    "            b_samp = data[sidx,:]\n",
    "            #tính có bao nhiêu unique values trong bootstraps sample\n",
    "            uni_count +=len(set(sidx))\n",
    "            # tính out-of-bag samples để đánh giấ mô hình sau này\n",
    "            oidx = list(set(idx)-set(sidx))\n",
    "            o_samp = np.array([])\n",
    "            if(oidx):\n",
    "                o_samp = data[oidx,:]\n",
    "            #lưu kết quả\n",
    "            dc['boot_'+str(b)] = {'boot':b_samp, 'test':o_samp}\n",
    "        count = 0\n",
    "        return (dc) \n",
    "    def get_params(self, deep = False):\n",
    "        '''\n",
    "        Public function để return model parameters   \n",
    "        '''\n",
    "        return {'n_trees':self.n_trees}\n",
    "    @abstractmethod\n",
    "    def _make_tree_model(self):\n",
    "        '''\n",
    "        protected function này là abstract method sẽ được đưa vào ở lớp con để lấy decision tree đúng\n",
    "        '''\n",
    "        pass \n",
    "    #protected function để train cây\n",
    "    def _train(self,X_train,y_train):\n",
    "        '''\n",
    "        Train model với data input đầu vào X_train, y_train \n",
    "        '''\n",
    "        #chuyển input data thành mảng 1 chiều\n",
    "        training_data = np.concatenate((X_train,y_train.reshape(-1,1)),axis=1)\n",
    "        #tạo bootstrap samples\n",
    "        Boot_sample = self.__make_bootstrap(training_data)\n",
    "        # lặp lại cho mỗi bootstrap sample và fit một model\n",
    "        tree_m = self._make_tree_model()\n",
    "        Outbag = {} #out-of-bag dictionary\n",
    "        for b in Boot_sample:\n",
    "            #làm 1 clone cho model\n",
    "            model = clone(tree_m)\n",
    "            #fit decision tree model bằng sample hiện tại\n",
    "            model.fit(Boot_sample[b]['boot'][:,:-1],Boot_sample[b]['boot'][:,-1].reshape(-1,1)) \n",
    "            #nối vào model đã fit\n",
    "            self.tree.append(model)\n",
    "            #lưu trữ out-of-the-bag test cho bootstrap hiện tại\n",
    "            if Boot_sample[b]['test'].size:\n",
    "                Outbag[b] = Boot_sample[b]['test']\n",
    "            else:\n",
    "                Outbag[b] = np.array([])\n",
    "        # trả về out-of-bag dataset\n",
    "        return(Outbag)\n",
    "    #_train(self,X_train,y_train) để dùng tạo bootstrap samples cần thiết và xây các cây (Decision Tree).\n",
    "    #protected function dùng để dự đoán (predict)\n",
    "    def _predict(self,X):\n",
    "        '''\n",
    "            Chương trình đưa dự đoán dựa trên các cây đã train  \n",
    "        '''\n",
    "        #check xem đã fit dataset nào chưa\n",
    "        if not self.tree:\n",
    "            print('train rồi mới predict được')\n",
    "            return(None)\n",
    "        #chạy vòng lặp vào các model đã fitted\n",
    "        predictions = []\n",
    "        for m in self.tree:\n",
    "            #predict cho input X\n",
    "            yp = m.predict(X) #predict của cây m\n",
    "            #lưu dự đoán (predictions) \n",
    "            predictions.append(yp.reshape(-1,1))\n",
    "            #đưa dự đoán\n",
    "            ypred = np.mean(np.concatenate(predictions,axis=1),axis=1)\n",
    "            return (ypred)\n",
    "        "
   ]
  },
  {
   "cell_type": "markdown",
   "metadata": {},
   "source": [
    "### **Xây dựng Random Forest Classifier**"
   ]
  },
  {
   "cell_type": "code",
   "execution_count": 16,
   "metadata": {},
   "outputs": [],
   "source": [
    "class RandomForestClasifier(RandomForest):\n",
    "    '''trình khởi tạo\n",
    "    kích cỡ mặc định của số lượng cây là 100, max_depth là độ sâu tối đa, min_samples_split là \n",
    "    số lượng sample ít nhất để split ở một nút, \n",
    "    '''\n",
    "    def __init__(self,n_trees=100,max_depth=None,min_samples_split=2,loss='gini',balance_class_weights=False):\n",
    "        super().__init__(n_trees)\n",
    "        self.max_depth = max_depth\n",
    "        self.min_samples_split = min_samples_split\n",
    "        self.loss = loss\n",
    "        self.balance_class_weights = balance_class_weights\n",
    "        # RandomForestClassifier được định nghĩa là lớp con với object RandomForest là tham số \n",
    "        #protected function để lấy decision tree\n",
    "    def _make_tree_model(self):\n",
    "                '''\n",
    "                Chương trình khởi tạo Decision Tree\n",
    "                '''\n",
    "                return (tree.DecisionTreeClassifier(max_depth=self.max_depth,\n",
    "                                        min_samples_split= self.min_samples_split,\n",
    "                                        ))\n",
    "\n",
    "    def get_params(self, deep = False):\n",
    "                '''public function để trả về model (tham số )parameters'''\n",
    "                return {\n",
    "                'n_trees':self.n_trees,\n",
    "                'max_depth':self.max_depth,\n",
    "                'min_samples_split':self.min_samples_split,\n",
    "                'loss':self.loss,\n",
    "                'balance_class_weights':self.balance_class_weights}\n",
    "    def fit(self,X_train,y_train):\n",
    "        #sử dụng train \n",
    "        dcOob = self._train(X_train,y_train)\n",
    "    def predict(self,X):\n",
    "        #đưa ra dự đoán predict\n",
    "        ypred = self._predict(X)\n",
    "        return (np.round(ypred).astype(int))"
   ]
  },
  {
   "cell_type": "markdown",
   "metadata": {},
   "source": [
    "### **Tiền xử lý**"
   ]
  },
  {
   "cell_type": "code",
   "execution_count": 17,
   "metadata": {},
   "outputs": [
    {
     "data": {
      "image/png": "[encoded data removed]",
      "text/plain": [
       "<Figure size 640x480 with 1 Axes>"
      ]
     },
     "metadata": {},
     "output_type": "display_data"
    }
   ],
   "source": [
    "data = pd.read_csv(\"C:\\\\Users\\\\DELL\\\\Iris.csv\") #lấy data từ local\n",
    "X = data.drop([\"Species\",\"Id\"],axis=1) #lấy features, loại bỏ cột target label và id\n",
    "y =  data[\"Species\"] # Lấy targets \n",
    "y.hist() # thống kê số lượng species \n",
    "plt.show()\n",
    "label = LabelEncoder()\n",
    "y = label.fit_transform(y)"
   ]
  },
  {
   "cell_type": "markdown",
   "metadata": {},
   "source": [
    "#### **Train test split** "
   ]
  },
  {
   "cell_type": "code",
   "execution_count": 18,
   "metadata": {},
   "outputs": [],
   "source": [
    "X_train,X_test,y_train,y_test = train_test_split(X,y,test_size=0.6) #chia train và test 80/20"
   ]
  },
  {
   "cell_type": "markdown",
   "metadata": {},
   "source": [
    "### **Train trên model**"
   ]
  },
  {
   "cell_type": "code",
   "execution_count": 19,
   "metadata": {},
   "outputs": [],
   "source": [
    "rdf = RandomForestClasifier()\n",
    "rdf.fit(X_train,y_train)\n",
    "y_pred = rdf.predict(X_test)\n"
   ]
  },
  {
   "cell_type": "markdown",
   "metadata": {},
   "source": [
    "### **Kiểm tra độ chính xác**"
   ]
  },
  {
   "cell_type": "code",
   "execution_count": 20,
   "metadata": {},
   "outputs": [
    {
     "data": {
      "image/png": "[encoded data removed]",
      "text/plain": [
       "<Figure size 640x480 with 2 Axes>"
      ]
     },
     "metadata": {},
     "output_type": "display_data"
    }
   ],
   "source": [
    "labels = np.unique(y)\n",
    "conf_matrix = confusion_matrix(y_test, y_pred, labels=labels)\n",
    "\n",
    "# Hiển thị confusion matrix\n",
    "disp = ConfusionMatrixDisplay(confusion_matrix=conf_matrix, display_labels=['sesota', 'versicolor', 'virginica'])\n",
    "disp.plot(cmap='Blues')\n",
    "disp.ax_.set_title('Confusion Matrix')\n",
    "disp.ax_.set_xlabel('Predicted Label')\n",
    "disp.ax_.set_ylabel('True Label')\n",
    "plt.show()\n"
   ]
  },
  {
   "cell_type": "code",
   "execution_count": 21,
   "metadata": {},
   "outputs": [
    {
     "name": "stdout",
     "output_type": "stream",
     "text": [
      "Mean Accuracy: 0.91\n",
      "Mean Precision: 0.93\n",
      "Mean Recall: 0.91\n"
     ]
    }
   ],
   "source": [
    "import warnings\n",
    "warnings.filterwarnings(\"ignore\")\n",
    "\n",
    "#khởi tạo các metrics \n",
    "scoring_metrics = {'accuracy': make_scorer(accuracy_score), \n",
    "                   'precision': make_scorer(precision_score, average='weighted'),\n",
    "                   'recall': make_scorer(recall_score, average='weighted')}\n",
    "# dùng k fold kiểm tra chéo để đánh giá performance \n",
    "#tính giá trị trung bình của các sau k fold của các metrics \n",
    "dcScores = cross_validate(rdf,X_test,y_test,cv=StratifiedKFold(10),scoring=scoring_metrics)\n",
    "print('Mean Accuracy: %.2f' % np.mean(dcScores['test_accuracy']))\n",
    "print('Mean Precision: %.2f' % np.mean(dcScores['test_precision']))\n",
    "print('Mean Recall: %.2f' % np.mean(dcScores['test_recall']))\n",
    "#tính k fold của train test để lát so sánh\n",
    "dcScores_train= cross_validate(rdf,X_train,y_train,cv=StratifiedKFold(10),scoring=scoring_metrics)"
   ]
  },
  {
   "cell_type": "code",
   "execution_count": 22,
   "metadata": {},
   "outputs": [
    {
     "data": {
      "image/png": "[encoded data removed]",
      "text/plain": [
       "<Figure size 500x400 with 1 Axes>"
      ]
     },
     "metadata": {},
     "output_type": "display_data"
    }
   ],
   "source": [
    "Mean_Accuracy= np.mean(dcScores['test_accuracy'])\n",
    "Mean_Precision = np.mean(dcScores['test_precision'])\n",
    "Mean_Recall = np.mean(dcScores['test_recall'])\n",
    "# Vẽ biểu đồ so sánh\n",
    "plt.figure(figsize=(5, 4))\n",
    "bars = plt.bar([\"Accuracy\", \"Precision\",\"Recall\"], [Mean_Accuracy, Mean_Precision,Mean_Recall], color=['blue', 'green','red'])\n",
    "for bar in bars:\n",
    "    y_val = bar.get_height()\n",
    "    plt.text(bar.get_x() + bar.get_width()/2.0, y_val, f'{y_val:.2f}', va='bottom')\n",
    "plt.ylim(0,1)\n",
    "plt.ylabel(\"Value\")\n",
    "plt.title(\"Giá trị các metrics\")\n",
    "plt.show()\n"
   ]
  },
  {
   "cell_type": "markdown",
   "metadata": {},
   "source": [
    "### **INPUT**"
   ]
  },
  {
   "cell_type": "code",
   "execution_count": 25,
   "metadata": {},
   "outputs": [
    {
     "name": "stdout",
     "output_type": "stream",
     "text": [
      "['Iris-virginica']\n"
     ]
    }
   ],
   "source": [
    "\n",
    "sepal_length = float(input(\"Sepal Length: \"))\n",
    "sepal_width = float(input(\"Sepal Width: \"))\n",
    "petal_length = float(input(\"Petal Length: \"))\n",
    "petal_width = float(input(\"Petal Width: \"))\n",
    "\n",
    "# Tạo data point mới\n",
    "new_data_point = np.array([[sepal_length, sepal_width, petal_length, petal_width]])\n",
    "# Đưa ra dự đoán cho data point mới\n",
    "prediction = rdf.predict(new_data_point)\n",
    "print(label.inverse_transform(prediction))\n"
   ]
  }
 ],
 "metadata": {
  "kernelspec": {
   "display_name": "base",
   "language": "python",
   "name": "python3"
  },
  "language_info": {
   "codemirror_mode": {
    "name": "ipython",
    "version": 3
   },
   "file_extension": ".py",
   "mimetype": "text/x-python",
   "name": "python",
   "nbconvert_exporter": "python",
   "pygments_lexer": "ipython3",
   "version": "3.11.7"
  }
 },
 "nbformat": 4,
 "nbformat_minor": 2
}
