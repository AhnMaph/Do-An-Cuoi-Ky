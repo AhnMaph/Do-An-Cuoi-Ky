{
 "cells": [
  {
   "cell_type": "markdown",
   "metadata": {},
   "source": [
    "### **Import Tools**"
   ]
  },
  {
   "cell_type": "code",
   "execution_count": 152,
   "metadata": {},
   "outputs": [],
   "source": [
    "import numpy as np\n",
    "import pandas as pd\n",
    "import seaborn as sns\n",
    "import matplotlib.pyplot as plt\n",
    "from sklearn.base import clone\n",
    "from sklearn.model_selection import StratifiedKFold,cross_validate,train_test_split\n",
    "from sklearn.metrics import accuracy_score,precision_score,recall_score,mean_absolute_error,mean_squared_error,r2_score,make_scorer\n",
    "from abc import ABC,abstractmethod\n",
    "from sklearn import tree\n",
    "from sklearn.metrics import confusion_matrix\n"
   ]
  },
  {
   "cell_type": "markdown",
   "metadata": {},
   "source": [
    "### **Build random forest base class** and **Make Bootstrap samples**"
   ]
  },
  {
   "cell_type": "code",
   "execution_count": 153,
   "metadata": {},
   "outputs": [],
   "source": [
    "class RandomForest(ABC):\n",
    "    def __init__(self, n_trees=100): # mặc định 100 cây\n",
    "        self.n_trees = n_trees\n",
    "        self.tree = []\n",
    "    def __make_bootstrap(self,data):\n",
    "        # khởi tạo output dictionary và unique count\n",
    "        dc = {}\n",
    "        unip = 0\n",
    "        # lấy sample size\n",
    "        b_size = data.shape[0]\n",
    "        # lấy list id\n",
    "        idx = [i for i in range(b_size)]\n",
    "        #lặp cho tới khi lấy các đủ bootstraps sample\n",
    "        for b in range(self.n_trees):\n",
    "            #Lấy bootstraps sample (được trùng nên replace = True)\n",
    "            sidx = np.random.choice(idx, replace=True,size=b_size)\n",
    "            b_samp = data[sidx,:]\n",
    "            #tính có bao nhiêu unique values trong bootstraps sample\n",
    "            unip +=len(set(sidx))\n",
    "            # tính out-of-bag samples để đánh giấ mô hình sau này\n",
    "            oidx = list(set(idx)-set(sidx))\n",
    "            o_samp = np.array([])\n",
    "            if(oidx):\n",
    "                o_samp = data[oidx,:]\n",
    "            #lưu kết quả\n",
    "            dc['boot_'+str(b)] = {'boot':b_samp, 'test':o_samp}\n",
    "        count = 0\n",
    "        return (dc) \n",
    "#public function để return model parameters\n",
    "    def get_params(self, deep = False):\n",
    "        return {'n_trees':self.n_trees}\n",
    "    #protected function này là abstract method sẽ được đưa vào ở lớp con để lấy decision tree đúng\n",
    "    @abstractmethod\n",
    "    def _make_tree_model(self):\n",
    "        pass \n",
    "    #protected function để train cây\n",
    "    def _train(self,X_train,y_train):\n",
    "        #chuyển input data thành mảng 1 chiều\n",
    "        training_data = np.concatenate((X_train,y_train.reshape(-1,1)),axis=1)\n",
    "        #tạo bootstrap samples\n",
    "        dcBoot = self.__make_bootstrap(training_data)\n",
    "        # lặp lại cho mỗi bootstrap sample và fit một model\n",
    "        tree_m = self._make_tree_model()\n",
    "        dcOob = {} #out-of-bag dictionary\n",
    "        for b in dcBoot:\n",
    "            #làm 1 clone cho model\n",
    "            model = clone(tree_m)\n",
    "            #fit decision tree model bằng sample hiện tại\n",
    "            model.fit(dcBoot[b]['boot'][:,:-1],dcBoot[b]['boot'][:,-1].reshape(-1,1)) \n",
    "            #nối vào model đã fit\n",
    "            self.tree.append(model)\n",
    "            #lưu trữ out-of-the-bag test cho bootstrap hiện tại\n",
    "            if dcBoot[b]['test'].size:\n",
    "                dcOob[b] = dcBoot[b]['test']\n",
    "            else:\n",
    "                dcOob[b] = np.array([])\n",
    "        # trả về out-of-bag dataset\n",
    "        return(dcOob)\n",
    "    #_train(self,X_train,y_train) để dùng tạo bootstrap samples cần thiết và xây các cây (Decision Tree).\n",
    "    #protected function dùng để dự đoán (predict)\n",
    "    def _predict(self,X):\n",
    "        #check xem đã fit dataset nào chưa\n",
    "        if not self.tree:\n",
    "            print('train rồi predict được')\n",
    "            return(None)\n",
    "        #chạy vòng lặp vào các model đã fitted\n",
    "        predictions = []\n",
    "        for m in self.tree:\n",
    "            #predict cho input X\n",
    "            yp = m.predict(X) #predict của cây m\n",
    "            #lưu dự đoán (predictions) \n",
    "            predictions.append(yp.reshape(-1,1))\n",
    "            #đưa dự đoán\n",
    "            ypred = np.mean(np.concatenate(predictions,axis=1),axis=1)\n",
    "            return (ypred)\n",
    "        "
   ]
  },
  {
   "cell_type": "markdown",
   "metadata": {},
   "source": [
    "### **Xây dựng Random Forest Classifier**"
   ]
  },
  {
   "cell_type": "code",
   "execution_count": 154,
   "metadata": {},
   "outputs": [],
   "source": [
    "class RandomForestClasifier(RandomForest):\n",
    "    '''trình khởi tạo\n",
    "    kích cỡ mặc định của số lượng cây là 100, max_depth là độ sâu tối đa, min_samples_split là \n",
    "    số lượng sample ít nhất để split ở một nút, \n",
    "    '''\n",
    "    def __init__(self,n_trees=100,max_depth=None,min_samples_split=2,loss='gini',balance_class_weights=False):\n",
    "        super().__init__(n_trees)\n",
    "        self.max_depth = max_depth\n",
    "        self.min_samples_split = min_samples_split\n",
    "        self.loss = loss\n",
    "        self.balance_class_weights = balance_class_weights\n",
    "        # RandomForestClassifier được định nghĩa là lớp con với object RandomForest là tham số \n",
    "        #protected function để lấy decision tree\n",
    "    def _make_tree_model(self):\n",
    "                return (tree.DecisionTreeClassifier(max_depth=self.max_depth,\n",
    "                                        min_samples_split= self.min_samples_split,\n",
    "                                        ))\n",
    "#public function để trả về model (tham số )parameters\n",
    "    def get_params(self, deep = False):\n",
    "                return {'n_trees':self.n_trees,\n",
    "                'max_depth':self.max_depth,\n",
    "                'min_samples_split':self.min_samples_split,\n",
    "                'loss':self.loss,\n",
    "                'balance_class_weights':self.balance_class_weights}\n",
    "    def fit(self,X_train,y_train):\n",
    "        #sử dụng train \n",
    "        dcOob = self._train(X_train,y_train)\n",
    "    def predict(self,X):\n",
    "        #dự đoán predict\n",
    "        ypred = self._predict(X)\n",
    "        #chuyển đáp án thành số nguyên rồi return\n",
    "        return (np.round(ypred).astype(int))"
   ]
  },
  {
   "cell_type": "markdown",
   "metadata": {},
   "source": [
    "### **Train thử với dataset Iris**"
   ]
  },
  {
   "cell_type": "code",
   "execution_count": 155,
   "metadata": {},
   "outputs": [
    {
     "data": {
      "image/png": "[encoded data removed]",
      "text/plain": [
       "<Figure size 640x480 with 1 Axes>"
      ]
     },
     "metadata": {},
     "output_type": "display_data"
    }
   ],
   "source": [
    "data = pd.read_csv(\"C:\\\\Users\\\\DELL\\\\Iris.csv\") #lấy data từ local\n",
    "X = data.drop(\"Species\",axis=1) #lấy features\n",
    "y =  data[\"Species\"].apply(lambda x: 1 if x == \"Iris-setosa\" else 0) \n",
    "# target của chúng ta là Iris-setosa sẽ bằng 1 còn lại bằng 0  \n",
    "y.hist() # thống kê species \n",
    "plt.show()"
   ]
  },
  {
   "cell_type": "markdown",
   "metadata": {},
   "source": [
    "#### **Train test split** "
   ]
  },
  {
   "cell_type": "code",
   "execution_count": 156,
   "metadata": {},
   "outputs": [
    {
     "name": "stderr",
     "output_type": "stream",
     "text": [
      "c:\\ProgramData\\anaconda3\\Lib\\site-packages\\sklearn\\base.py:432: UserWarning: X has feature names, but DecisionTreeClassifier was fitted without feature names\n",
      "  warnings.warn(\n"
     ]
    }
   ],
   "source": [
    "X_train,X_test,y_train,y_test = train_test_split(X,y,test_size=0.2) #chia train và test 80/20\n",
    "rdf = RandomForestClasifier()\n",
    "rdf.fit(X_train.values,y_train.values)\n",
    "y_pred = rdf.predict(X_test)\n"
   ]
  },
  {
   "cell_type": "code",
   "execution_count": 157,
   "metadata": {},
   "outputs": [
    {
     "name": "stdout",
     "output_type": "stream",
     "text": [
      "Mean Accuracy: 0.97\n",
      "Mean Precision: 0.98\n",
      "Mean Recall: 0.97\n"
     ]
    }
   ],
   "source": [
    "#khởi tạo các metrics \n",
    "scoring_metrics = {'accuracy': make_scorer(accuracy_score), \n",
    "                   'precision': make_scorer(precision_score, average='weighted'),\n",
    "                   'recall': make_scorer(recall_score, average='weighted')}\n",
    "# dùng k fold kiểm tra chéo để đánh giá performance \n",
    "dcScores        = cross_validate(rdf,X_test.values,y_test.values,cv=StratifiedKFold(10),scoring=scoring_metrics)\n",
    "print('Mean Accuracy: %.2f' % np.mean(dcScores['test_accuracy']))\n",
    "print('Mean Precision: %.2f' % np.mean(dcScores['test_precision']))\n",
    "print('Mean Recall: %.2f' % np.mean(dcScores['test_recall']))"
   ]
  },
  {
   "cell_type": "code",
   "execution_count": 158,
   "metadata": {},
   "outputs": [
    {
     "name": "stdout",
     "output_type": "stream",
     "text": [
      "Confusion Matrix:\n",
      "[[19  0]\n",
      " [ 0 11]]\n"
     ]
    }
   ],
   "source": [
    "cm = confusion_matrix(y_test,y_pred)\n",
    "print(\"Confusion Matrix:\")\n",
    "print(cm)"
   ]
  }
 ],
 "metadata": {
  "kernelspec": {
   "display_name": "base",
   "language": "python",
   "name": "python3"
  },
  "language_info": {
   "codemirror_mode": {
    "name": "ipython",
    "version": 3
   },
   "file_extension": ".py",
   "mimetype": "text/x-python",
   "name": "python",
   "nbconvert_exporter": "python",
   "pygments_lexer": "ipython3",
   "version": "3.11.7"
  }
 },
 "nbformat": 4,
 "nbformat_minor": 2
}
